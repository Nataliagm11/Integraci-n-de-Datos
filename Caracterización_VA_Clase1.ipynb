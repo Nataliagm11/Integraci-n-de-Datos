{
  "nbformat": 4,
  "nbformat_minor": 0,
  "metadata": {
    "colab": {
      "provenance": [],
      "authorship_tag": "ABX9TyM7jhdxbQgq51sgX60Y7SE/",
      "include_colab_link": true
    },
    "kernelspec": {
      "name": "python3",
      "display_name": "Python 3"
    },
    "language_info": {
      "name": "python"
    }
  },
  "cells": [
    {
      "cell_type": "markdown",
      "metadata": {
        "id": "view-in-github",
        "colab_type": "text"
      },
      "source": [
        "<a href=\"https://colab.research.google.com/github/Nataliagm11/Integraci-n-de-Datos/blob/main/Caracterizaci%C3%B3n_VA_Clase1.ipynb\" target=\"_parent\"><img src=\"https://colab.research.google.com/assets/colab-badge.svg\" alt=\"Open In Colab\"/></a>"
      ]
    },
    {
      "cell_type": "markdown",
      "source": [
        "#**Caracterización Experimental de variables**\n",
        "\n",
        "0. Cargar las librerias de trabajo"
      ],
      "metadata": {
        "id": "xRE9vkeGeVMx"
      }
    },
    {
      "cell_type": "code",
      "execution_count": 1,
      "metadata": {
        "colab": {
          "base_uri": "https://localhost:8080/"
        },
        "id": "M-Gh7S1WeOP0",
        "outputId": "1b700f7b-d71a-43cb-ac3e-30c234314221"
      },
      "outputs": [
        {
          "output_type": "stream",
          "name": "stdout",
          "text": [
            "Mounted at /content/drive\n"
          ]
        }
      ],
      "source": [
        "import numpy as np\n",
        "import matplotlib.pyplot as plt\n",
        "import pandas as pd\n",
        "import seaborn as sns #Libreria para la gráfica de distribuciones\n",
        "\n",
        "#Para la carga automatica de los datos\n",
        "from google.colab import drive #Cargar datos desde drive\n",
        "drive.mount('/content/drive')"
      ]
    },
    {
      "cell_type": "markdown",
      "source": [
        "1. Se procede a la carga de datos"
      ],
      "metadata": {
        "id": "KAHsbLi2gxNY"
      }
    },
    {
      "cell_type": "code",
      "source": [
        "nxl = '/content/drive/MyDrive/Semestre 8/Prospectiva e Inetgración de datos/Data/3. FallasTecnologicas.xlsx'\n",
        "XDB = pd.read_excel(nxl)\n",
        "XDB.head(100)"
      ],
      "metadata": {
        "colab": {
          "base_uri": "https://localhost:8080/",
          "height": 424
        },
        "id": "ZNv0rKoNfb6t",
        "outputId": "496f9550-a29b-43cd-ff64-a726e034231a"
      },
      "execution_count": 2,
      "outputs": [
        {
          "output_type": "execute_result",
          "data": {
            "text/plain": [
              "        Fechas  Eventos  Transaccion Promedio  Eventos-Fallo  Pérdida Promedio\n",
              "0     Semana 1       80               14.8058              1            0.5374\n",
              "1     Semana 2      105               56.4721              4            1.1978\n",
              "2     Semana 3       70                9.9760              5            0.4269\n",
              "3     Semana 4      105               18.2949              6            1.0814\n",
              "4     Semana 5      130               23.4112              7            1.2105\n",
              "..         ...      ...                   ...            ...               ...\n",
              "95   Semana 96      115               25.2722              1            1.3816\n",
              "96   Semana 97       75                8.8613              6            1.2785\n",
              "97   Semana 98       85               19.7139              1            0.6788\n",
              "98   Semana 99       80                1.4179              3           14.7925\n",
              "99  Semana 100       55               15.6509              2            2.3439\n",
              "\n",
              "[100 rows x 5 columns]"
            ],
            "text/html": [
              "\n",
              "  <div id=\"df-bbd3ac3a-e962-42c7-8e29-99f58191de75\" class=\"colab-df-container\">\n",
              "    <div>\n",
              "<style scoped>\n",
              "    .dataframe tbody tr th:only-of-type {\n",
              "        vertical-align: middle;\n",
              "    }\n",
              "\n",
              "    .dataframe tbody tr th {\n",
              "        vertical-align: top;\n",
              "    }\n",
              "\n",
              "    .dataframe thead th {\n",
              "        text-align: right;\n",
              "    }\n",
              "</style>\n",
              "<table border=\"1\" class=\"dataframe\">\n",
              "  <thead>\n",
              "    <tr style=\"text-align: right;\">\n",
              "      <th></th>\n",
              "      <th>Fechas</th>\n",
              "      <th>Eventos</th>\n",
              "      <th>Transaccion Promedio</th>\n",
              "      <th>Eventos-Fallo</th>\n",
              "      <th>Pérdida Promedio</th>\n",
              "    </tr>\n",
              "  </thead>\n",
              "  <tbody>\n",
              "    <tr>\n",
              "      <th>0</th>\n",
              "      <td>Semana 1</td>\n",
              "      <td>80</td>\n",
              "      <td>14.8058</td>\n",
              "      <td>1</td>\n",
              "      <td>0.5374</td>\n",
              "    </tr>\n",
              "    <tr>\n",
              "      <th>1</th>\n",
              "      <td>Semana 2</td>\n",
              "      <td>105</td>\n",
              "      <td>56.4721</td>\n",
              "      <td>4</td>\n",
              "      <td>1.1978</td>\n",
              "    </tr>\n",
              "    <tr>\n",
              "      <th>2</th>\n",
              "      <td>Semana 3</td>\n",
              "      <td>70</td>\n",
              "      <td>9.9760</td>\n",
              "      <td>5</td>\n",
              "      <td>0.4269</td>\n",
              "    </tr>\n",
              "    <tr>\n",
              "      <th>3</th>\n",
              "      <td>Semana 4</td>\n",
              "      <td>105</td>\n",
              "      <td>18.2949</td>\n",
              "      <td>6</td>\n",
              "      <td>1.0814</td>\n",
              "    </tr>\n",
              "    <tr>\n",
              "      <th>4</th>\n",
              "      <td>Semana 5</td>\n",
              "      <td>130</td>\n",
              "      <td>23.4112</td>\n",
              "      <td>7</td>\n",
              "      <td>1.2105</td>\n",
              "    </tr>\n",
              "    <tr>\n",
              "      <th>...</th>\n",
              "      <td>...</td>\n",
              "      <td>...</td>\n",
              "      <td>...</td>\n",
              "      <td>...</td>\n",
              "      <td>...</td>\n",
              "    </tr>\n",
              "    <tr>\n",
              "      <th>95</th>\n",
              "      <td>Semana 96</td>\n",
              "      <td>115</td>\n",
              "      <td>25.2722</td>\n",
              "      <td>1</td>\n",
              "      <td>1.3816</td>\n",
              "    </tr>\n",
              "    <tr>\n",
              "      <th>96</th>\n",
              "      <td>Semana 97</td>\n",
              "      <td>75</td>\n",
              "      <td>8.8613</td>\n",
              "      <td>6</td>\n",
              "      <td>1.2785</td>\n",
              "    </tr>\n",
              "    <tr>\n",
              "      <th>97</th>\n",
              "      <td>Semana 98</td>\n",
              "      <td>85</td>\n",
              "      <td>19.7139</td>\n",
              "      <td>1</td>\n",
              "      <td>0.6788</td>\n",
              "    </tr>\n",
              "    <tr>\n",
              "      <th>98</th>\n",
              "      <td>Semana 99</td>\n",
              "      <td>80</td>\n",
              "      <td>1.4179</td>\n",
              "      <td>3</td>\n",
              "      <td>14.7925</td>\n",
              "    </tr>\n",
              "    <tr>\n",
              "      <th>99</th>\n",
              "      <td>Semana 100</td>\n",
              "      <td>55</td>\n",
              "      <td>15.6509</td>\n",
              "      <td>2</td>\n",
              "      <td>2.3439</td>\n",
              "    </tr>\n",
              "  </tbody>\n",
              "</table>\n",
              "<p>100 rows × 5 columns</p>\n",
              "</div>\n",
              "    <div class=\"colab-df-buttons\">\n",
              "\n",
              "  <div class=\"colab-df-container\">\n",
              "    <button class=\"colab-df-convert\" onclick=\"convertToInteractive('df-bbd3ac3a-e962-42c7-8e29-99f58191de75')\"\n",
              "            title=\"Convert this dataframe to an interactive table.\"\n",
              "            style=\"display:none;\">\n",
              "\n",
              "  <svg xmlns=\"http://www.w3.org/2000/svg\" height=\"24px\" viewBox=\"0 -960 960 960\">\n",
              "    <path d=\"M120-120v-720h720v720H120Zm60-500h600v-160H180v160Zm220 220h160v-160H400v160Zm0 220h160v-160H400v160ZM180-400h160v-160H180v160Zm440 0h160v-160H620v160ZM180-180h160v-160H180v160Zm440 0h160v-160H620v160Z\"/>\n",
              "  </svg>\n",
              "    </button>\n",
              "\n",
              "  <style>\n",
              "    .colab-df-container {\n",
              "      display:flex;\n",
              "      gap: 12px;\n",
              "    }\n",
              "\n",
              "    .colab-df-convert {\n",
              "      background-color: #E8F0FE;\n",
              "      border: none;\n",
              "      border-radius: 50%;\n",
              "      cursor: pointer;\n",
              "      display: none;\n",
              "      fill: #1967D2;\n",
              "      height: 32px;\n",
              "      padding: 0 0 0 0;\n",
              "      width: 32px;\n",
              "    }\n",
              "\n",
              "    .colab-df-convert:hover {\n",
              "      background-color: #E2EBFA;\n",
              "      box-shadow: 0px 1px 2px rgba(60, 64, 67, 0.3), 0px 1px 3px 1px rgba(60, 64, 67, 0.15);\n",
              "      fill: #174EA6;\n",
              "    }\n",
              "\n",
              "    .colab-df-buttons div {\n",
              "      margin-bottom: 4px;\n",
              "    }\n",
              "\n",
              "    [theme=dark] .colab-df-convert {\n",
              "      background-color: #3B4455;\n",
              "      fill: #D2E3FC;\n",
              "    }\n",
              "\n",
              "    [theme=dark] .colab-df-convert:hover {\n",
              "      background-color: #434B5C;\n",
              "      box-shadow: 0px 1px 3px 1px rgba(0, 0, 0, 0.15);\n",
              "      filter: drop-shadow(0px 1px 2px rgba(0, 0, 0, 0.3));\n",
              "      fill: #FFFFFF;\n",
              "    }\n",
              "  </style>\n",
              "\n",
              "    <script>\n",
              "      const buttonEl =\n",
              "        document.querySelector('#df-bbd3ac3a-e962-42c7-8e29-99f58191de75 button.colab-df-convert');\n",
              "      buttonEl.style.display =\n",
              "        google.colab.kernel.accessAllowed ? 'block' : 'none';\n",
              "\n",
              "      async function convertToInteractive(key) {\n",
              "        const element = document.querySelector('#df-bbd3ac3a-e962-42c7-8e29-99f58191de75');\n",
              "        const dataTable =\n",
              "          await google.colab.kernel.invokeFunction('convertToInteractive',\n",
              "                                                    [key], {});\n",
              "        if (!dataTable) return;\n",
              "\n",
              "        const docLinkHtml = 'Like what you see? Visit the ' +\n",
              "          '<a target=\"_blank\" href=https://colab.research.google.com/notebooks/data_table.ipynb>data table notebook</a>'\n",
              "          + ' to learn more about interactive tables.';\n",
              "        element.innerHTML = '';\n",
              "        dataTable['output_type'] = 'display_data';\n",
              "        await google.colab.output.renderOutput(dataTable, element);\n",
              "        const docLink = document.createElement('div');\n",
              "        docLink.innerHTML = docLinkHtml;\n",
              "        element.appendChild(docLink);\n",
              "      }\n",
              "    </script>\n",
              "  </div>\n",
              "\n",
              "\n",
              "<div id=\"df-5d1544e1-9999-47af-8789-37eb36bfb7fb\">\n",
              "  <button class=\"colab-df-quickchart\" onclick=\"quickchart('df-5d1544e1-9999-47af-8789-37eb36bfb7fb')\"\n",
              "            title=\"Suggest charts\"\n",
              "            style=\"display:none;\">\n",
              "\n",
              "<svg xmlns=\"http://www.w3.org/2000/svg\" height=\"24px\"viewBox=\"0 0 24 24\"\n",
              "     width=\"24px\">\n",
              "    <g>\n",
              "        <path d=\"M19 3H5c-1.1 0-2 .9-2 2v14c0 1.1.9 2 2 2h14c1.1 0 2-.9 2-2V5c0-1.1-.9-2-2-2zM9 17H7v-7h2v7zm4 0h-2V7h2v10zm4 0h-2v-4h2v4z\"/>\n",
              "    </g>\n",
              "</svg>\n",
              "  </button>\n",
              "\n",
              "<style>\n",
              "  .colab-df-quickchart {\n",
              "      --bg-color: #E8F0FE;\n",
              "      --fill-color: #1967D2;\n",
              "      --hover-bg-color: #E2EBFA;\n",
              "      --hover-fill-color: #174EA6;\n",
              "      --disabled-fill-color: #AAA;\n",
              "      --disabled-bg-color: #DDD;\n",
              "  }\n",
              "\n",
              "  [theme=dark] .colab-df-quickchart {\n",
              "      --bg-color: #3B4455;\n",
              "      --fill-color: #D2E3FC;\n",
              "      --hover-bg-color: #434B5C;\n",
              "      --hover-fill-color: #FFFFFF;\n",
              "      --disabled-bg-color: #3B4455;\n",
              "      --disabled-fill-color: #666;\n",
              "  }\n",
              "\n",
              "  .colab-df-quickchart {\n",
              "    background-color: var(--bg-color);\n",
              "    border: none;\n",
              "    border-radius: 50%;\n",
              "    cursor: pointer;\n",
              "    display: none;\n",
              "    fill: var(--fill-color);\n",
              "    height: 32px;\n",
              "    padding: 0;\n",
              "    width: 32px;\n",
              "  }\n",
              "\n",
              "  .colab-df-quickchart:hover {\n",
              "    background-color: var(--hover-bg-color);\n",
              "    box-shadow: 0 1px 2px rgba(60, 64, 67, 0.3), 0 1px 3px 1px rgba(60, 64, 67, 0.15);\n",
              "    fill: var(--button-hover-fill-color);\n",
              "  }\n",
              "\n",
              "  .colab-df-quickchart-complete:disabled,\n",
              "  .colab-df-quickchart-complete:disabled:hover {\n",
              "    background-color: var(--disabled-bg-color);\n",
              "    fill: var(--disabled-fill-color);\n",
              "    box-shadow: none;\n",
              "  }\n",
              "\n",
              "  .colab-df-spinner {\n",
              "    border: 2px solid var(--fill-color);\n",
              "    border-color: transparent;\n",
              "    border-bottom-color: var(--fill-color);\n",
              "    animation:\n",
              "      spin 1s steps(1) infinite;\n",
              "  }\n",
              "\n",
              "  @keyframes spin {\n",
              "    0% {\n",
              "      border-color: transparent;\n",
              "      border-bottom-color: var(--fill-color);\n",
              "      border-left-color: var(--fill-color);\n",
              "    }\n",
              "    20% {\n",
              "      border-color: transparent;\n",
              "      border-left-color: var(--fill-color);\n",
              "      border-top-color: var(--fill-color);\n",
              "    }\n",
              "    30% {\n",
              "      border-color: transparent;\n",
              "      border-left-color: var(--fill-color);\n",
              "      border-top-color: var(--fill-color);\n",
              "      border-right-color: var(--fill-color);\n",
              "    }\n",
              "    40% {\n",
              "      border-color: transparent;\n",
              "      border-right-color: var(--fill-color);\n",
              "      border-top-color: var(--fill-color);\n",
              "    }\n",
              "    60% {\n",
              "      border-color: transparent;\n",
              "      border-right-color: var(--fill-color);\n",
              "    }\n",
              "    80% {\n",
              "      border-color: transparent;\n",
              "      border-right-color: var(--fill-color);\n",
              "      border-bottom-color: var(--fill-color);\n",
              "    }\n",
              "    90% {\n",
              "      border-color: transparent;\n",
              "      border-bottom-color: var(--fill-color);\n",
              "    }\n",
              "  }\n",
              "</style>\n",
              "\n",
              "  <script>\n",
              "    async function quickchart(key) {\n",
              "      const quickchartButtonEl =\n",
              "        document.querySelector('#' + key + ' button');\n",
              "      quickchartButtonEl.disabled = true;  // To prevent multiple clicks.\n",
              "      quickchartButtonEl.classList.add('colab-df-spinner');\n",
              "      try {\n",
              "        const charts = await google.colab.kernel.invokeFunction(\n",
              "            'suggestCharts', [key], {});\n",
              "      } catch (error) {\n",
              "        console.error('Error during call to suggestCharts:', error);\n",
              "      }\n",
              "      quickchartButtonEl.classList.remove('colab-df-spinner');\n",
              "      quickchartButtonEl.classList.add('colab-df-quickchart-complete');\n",
              "    }\n",
              "    (() => {\n",
              "      let quickchartButtonEl =\n",
              "        document.querySelector('#df-5d1544e1-9999-47af-8789-37eb36bfb7fb button');\n",
              "      quickchartButtonEl.style.display =\n",
              "        google.colab.kernel.accessAllowed ? 'block' : 'none';\n",
              "    })();\n",
              "  </script>\n",
              "</div>\n",
              "\n",
              "    </div>\n",
              "  </div>\n"
            ],
            "application/vnd.google.colaboratory.intrinsic+json": {
              "type": "dataframe",
              "variable_name": "XDB",
              "summary": "{\n  \"name\": \"XDB\",\n  \"rows\": 701,\n  \"fields\": [\n    {\n      \"column\": \"Fechas\",\n      \"properties\": {\n        \"dtype\": \"string\",\n        \"num_unique_values\": 701,\n        \"samples\": [\n          \"Semana 681\",\n          \"Semana 165\",\n          \"Semana 55\"\n        ],\n        \"semantic_type\": \"\",\n        \"description\": \"\"\n      }\n    },\n    {\n      \"column\": \"Eventos\",\n      \"properties\": {\n        \"dtype\": \"number\",\n        \"std\": 22,\n        \"min\": 35,\n        \"max\": 170,\n        \"num_unique_values\": 27,\n        \"samples\": [\n          135,\n          120,\n          75\n        ],\n        \"semantic_type\": \"\",\n        \"description\": \"\"\n      }\n    },\n    {\n      \"column\": \"Transaccion Promedio\",\n      \"properties\": {\n        \"dtype\": \"number\",\n        \"std\": 11.598670971622456,\n        \"min\": -9.9574,\n        \"max\": 59.5669,\n        \"num_unique_values\": 701,\n        \"samples\": [\n          11.6865,\n          38.9345,\n          26.5405\n        ],\n        \"semantic_type\": \"\",\n        \"description\": \"\"\n      }\n    },\n    {\n      \"column\": \"Eventos-Fallo\",\n      \"properties\": {\n        \"dtype\": \"number\",\n        \"std\": 2,\n        \"min\": 1,\n        \"max\": 16,\n        \"num_unique_values\": 15,\n        \"samples\": [\n          10,\n          11,\n          1\n        ],\n        \"semantic_type\": \"\",\n        \"description\": \"\"\n      }\n    },\n    {\n      \"column\": \"P\\u00e9rdida Promedio\",\n      \"properties\": {\n        \"dtype\": \"number\",\n        \"std\": 2.130130353380655,\n        \"min\": 0.0842,\n        \"max\": 17.3129,\n        \"num_unique_values\": 696,\n        \"samples\": [\n          1.2833,\n          0.5493,\n          5.4353\n        ],\n        \"semantic_type\": \"\",\n        \"description\": \"\"\n      }\n    }\n  ]\n}"
            }
          },
          "metadata": {},
          "execution_count": 2
        }
      ]
    },
    {
      "cell_type": "code",
      "source": [
        "#Tomamos las variables de interes\n",
        "Xev = XDB.iloc[:,3] #Variable de eventos semanales\n",
        "Xsev = XDB.iloc[:,4] #Perdidas promedio por evento\n",
        "LDA = np.multiply(Xev,Xsev)\n",
        "\n",
        "#Graficamos la distribución de las pérdidas\n",
        "plt.figure()\n",
        "sns.histplot(LDA, kde = True, bins = 10, color= 'purple')  #Bins, quiere decir que estoy agrupando los datos en 10 intervalos\n",
        "plt.title('Distribución de Pérdidas')\n",
        "plt.legend(['Distribución de Pérdidas'])\n",
        "plt.show()\n"
      ],
      "metadata": {
        "colab": {
          "base_uri": "https://localhost:8080/",
          "height": 452
        },
        "id": "mSX52m4OhSK-",
        "outputId": "7ce1cf3e-8400-4090-90dd-b62a5f343337"
      },
      "execution_count": 3,
      "outputs": [
        {
          "output_type": "display_data",
          "data": {
            "text/plain": [
              "<Figure size 640x480 with 1 Axes>"
            ],
            "image/png": "[encoded data removed]"
          },
          "metadata": {}
        }
      ]
    },
    {
      "cell_type": "markdown",
      "source": [
        "2. Caracterización de la distribución de las pérdidas"
      ],
      "metadata": {
        "id": "OWwTrMHelWe2"
      }
    },
    {
      "cell_type": "code",
      "source": [
        "counts,bin_edges = np.histogram(LDA, bins = 10)\n",
        "print('Los datos por intervalos son:\\n',counts)\n",
        "print('Los limites de los intervalos son:\\n',bin_edges)"
      ],
      "metadata": {
        "colab": {
          "base_uri": "https://localhost:8080/"
        },
        "id": "JfFe_Y9kl0Zq",
        "outputId": "57045177-28f7-4c03-c0a1-6e4a109a025f"
      },
      "execution_count": 4,
      "outputs": [
        {
          "output_type": "stream",
          "name": "stdout",
          "text": [
            "Los datos por intervalos son:\n",
            " [533  93  37  14   9   5   3   5   1   1]\n",
            "Los limites de los intervalos son:\n",
            " [  0.1423   11.23637  22.33044  33.42451  44.51858  55.61265  66.70672\n",
            "  77.80079  88.89486  99.98893 111.083  ]\n"
          ]
        }
      ]
    },
    {
      "cell_type": "code",
      "source": [
        "# Los valores centrales - marcas de clase\n",
        "mc = (bin_edges[:-1] + bin_edges[1:])/2\n",
        "\n",
        "#Limites inferiores bin_edges[:-1]\n",
        "#Limites superiores bin_edges[1:]\n",
        "print('Los valores centrales de las clases son:\\n',mc)"
      ],
      "metadata": {
        "colab": {
          "base_uri": "https://localhost:8080/"
        },
        "id": "DKb4LKJvmZZL",
        "outputId": "0f870150-1d6e-4cb4-c267-77b29ebba2f9"
      },
      "execution_count": 5,
      "outputs": [
        {
          "output_type": "stream",
          "name": "stdout",
          "text": [
            "Los valores centrales de las clases son:\n",
            " [  5.689335  16.783405  27.877475  38.971545  50.065615  61.159685\n",
            "  72.253755  83.347825  94.441895 105.535965]\n"
          ]
        }
      ]
    },
    {
      "cell_type": "code",
      "source": [
        "#Cuantos datos hay por intervalo\n",
        "fp = counts/sum(counts)\n",
        "print('Los datos por intervalos son:\\n',fp)"
      ],
      "metadata": {
        "colab": {
          "base_uri": "https://localhost:8080/"
        },
        "id": "M8lthLian2sF",
        "outputId": "06752373-db01-436c-b082-1d900f2524b0"
      },
      "execution_count": 6,
      "outputs": [
        {
          "output_type": "stream",
          "name": "stdout",
          "text": [
            "Los datos por intervalos son:\n",
            " [0.76034237 0.13266762 0.05278174 0.01997147 0.0128388  0.00713267\n",
            " 0.0042796  0.00713267 0.00142653 0.00142653]\n"
          ]
        }
      ]
    },
    {
      "cell_type": "markdown",
      "source": [
        "3. Se procede con el calculo de las medidas de tendencia central\n",
        "Media, varianza, coeficiente de asimetria, kurtosis"
      ],
      "metadata": {
        "id": "6ivLOZmloU6O"
      }
    },
    {
      "cell_type": "code",
      "source": [
        "#Media\n",
        "u = np.sum(np.multiply(mc,fp))\n",
        "print('La media es de los datos:\\n',u)"
      ],
      "metadata": {
        "colab": {
          "base_uri": "https://localhost:8080/"
        },
        "id": "By2yYDSYoTJ0",
        "outputId": "7794aa0b-5d68-40a6-c8df-35280fd9e2b0"
      },
      "execution_count": 7,
      "outputs": [
        {
          "output_type": "stream",
          "name": "stdout",
          "text": [
            "La media es de los datos:\n",
            " 11.07019634094151\n"
          ]
        }
      ]
    },
    {
      "cell_type": "code",
      "source": [
        "# Varizanza\n",
        "var = np.sum(np.multiply((mc-u)**2,fp))\n",
        "print('La varianza es de los datos:\\n',var)"
      ],
      "metadata": {
        "colab": {
          "base_uri": "https://localhost:8080/"
        },
        "id": "3vRLi1Jhot2N",
        "outputId": "db7b4c87-1977-43f9-88b8-5783f05502f3"
      },
      "execution_count": 8,
      "outputs": [
        {
          "output_type": "stream",
          "name": "stdout",
          "text": [
            "La varianza es de los datos:\n",
            " 170.14888945066892\n"
          ]
        }
      ]
    },
    {
      "cell_type": "code",
      "source": [
        "# Desviación Estandar\n",
        "std = np.sqrt(var)\n",
        "print('La desviación estandar es de los datos:\\n',std)"
      ],
      "metadata": {
        "colab": {
          "base_uri": "https://localhost:8080/"
        },
        "id": "5mGLoszcqmON",
        "outputId": "aaab9744-79d7-4936-bae1-c081e293e909"
      },
      "execution_count": 9,
      "outputs": [
        {
          "output_type": "stream",
          "name": "stdout",
          "text": [
            "La desviación estandar es de los datos:\n",
            " 13.044113210589247\n"
          ]
        }
      ]
    },
    {
      "cell_type": "code",
      "source": [
        "#Coeficiente de asímetria\n",
        "cas = np.sum(np.multiply(((mc-u)/std)**3,fp))\n",
        "print('El coeficiente de asimetria es de los datos:\\n',cas)"
      ],
      "metadata": {
        "colab": {
          "base_uri": "https://localhost:8080/"
        },
        "id": "ZT7DOYFSrK_g",
        "outputId": "08bc6227-44f5-4a4e-93a5-bc7139665c6a"
      },
      "execution_count": 10,
      "outputs": [
        {
          "output_type": "stream",
          "name": "stdout",
          "text": [
            "El coeficiente de asimetria es de los datos:\n",
            " 3.58241551867726\n"
          ]
        }
      ]
    },
    {
      "cell_type": "code",
      "source": [
        "#Curtosis\n",
        "ck= np.sum(np.multiply(((mc-u)/std)**4,fp))\n",
        "print('El coeficiente de curtosis es de los datos:\\n',ck-3)"
      ],
      "metadata": {
        "colab": {
          "base_uri": "https://localhost:8080/"
        },
        "id": "bUcJ1UShr4vY",
        "outputId": "366544fa-4399-4ce1-d18c-a82e42c211b5"
      },
      "execution_count": 11,
      "outputs": [
        {
          "output_type": "stream",
          "name": "stdout",
          "text": [
            "El coeficiente de curtosis es de los datos:\n",
            " 15.266617247076208\n"
          ]
        }
      ]
    },
    {
      "cell_type": "markdown",
      "source": [
        "En la base de datos se cuenta con un total de 701 registros de evento de pérdida, asociado con las operaciones a través de canales electronicos de una FINTECH. Estos registros nos arrojan como resultado una confiabilidad en la estimación de los estadisticos del 99% de acuerdo con la teoria de los percentiles. En la gráfica anterior, podemos observar que la distribución presenta una estructura de cola larga, esto promovido por un coeficiente de asimetría positivo, aproximadamente de 3.348, y un coeficiente de curtosis aproximadamente de 15 unidades, lo que indica que la mayoría de los datos se encuentran muy concentrados alrededor de la medida en un 76% aproximadamente. Esta estructura muestra claramente que los eventos de pérdida extremos muy escasos, lo que indica una baja exposición al riesgo."
      ],
      "metadata": {
        "id": "JSsDIikPsrFz"
      }
    },
    {
      "cell_type": "markdown",
      "source": [
        "3. Se procede con el muestreo de la variable aleatoria de pérdidas"
      ],
      "metadata": {
        "id": "t4VcyL87aG6G"
      }
    },
    {
      "cell_type": "code",
      "source": [
        "from scipy.stats import skew, kurtosis\n",
        "#0. Preparar la variable para el muestreo\n",
        "LDAdf = pd.DataFrame(LDA)\n",
        "\n",
        "#1. Se procede con el muestreo\n",
        "LDAs = LDAdf.sample(n=1000, replace= True)\n",
        "casd = skew(LDAs)\n",
        "print('El coeficiente de asimetria es de los datos:\\n',casd)\n",
        "\n",
        "ckd = kurtosis(LDAs)\n",
        "print('El coeficiente de curtosis es de los datos:\\n',ckd-3) # El exceso siempre es 3 y por eso se resta"
      ],
      "metadata": {
        "colab": {
          "base_uri": "https://localhost:8080/"
        },
        "id": "Mz7Ey3mNaMwv",
        "outputId": "d1f9e93d-2f45-4d80-d484-a2d966f89e66"
      },
      "execution_count": 13,
      "outputs": [
        {
          "output_type": "stream",
          "name": "stdout",
          "text": [
            "El coeficiente de asimetria es de los datos:\n",
            " [3.31759297]\n",
            "El coeficiente de curtosis es de los datos:\n",
            " [11.16198347]\n"
          ]
        }
      ]
    },
    {
      "cell_type": "code",
      "source": [
        "pvcas = ((cas-casd)/cas) # Variación del coeficiente de asimetría\n",
        "print('La variación del coeficiente de asimetría es de:\\n',pvcas)\n",
        "\n",
        "pvk = ((ck-ckd)/ck) # Variación del coeficiente de curtosis\n",
        "print('La variación del coeficiente de curtosis es de:\\n',pvk)\n",
        "\n",
        "#Se procede con la grafica de distribucion de las perdidas\n",
        "plt.figure()\n",
        "sns.histplot(LDA, kde = True, bins = 10, color= 'orange')\n",
        "sns.histplot(LDAs, kde = True, bins = 10, color= 'lightblue')\n",
        "plt.title('Diferencia entre Distribuciones de Pérdidas')\n",
        "plt.legend(['Distribución Original','Distribución Muestra'])\n",
        "plt.show()"
      ],
      "metadata": {
        "colab": {
          "base_uri": "https://localhost:8080/",
          "height": 521
        },
        "id": "XGYLfQt3cK7U",
        "outputId": "59451da8-a23c-4348-941b-9ae9d854c0a4"
      },
      "execution_count": 17,
      "outputs": [
        {
          "output_type": "stream",
          "name": "stdout",
          "text": [
            "La variación del coeficiente de asimetría es de:\n",
            " [0.0739229]\n",
            "La variación del coeficiente de curtosis es de:\n",
            " [0.22470684]\n"
          ]
        },
        {
          "output_type": "display_data",
          "data": {
            "text/plain": [
              "<Figure size 640x480 with 1 Axes>"
            ],
            "image/png": "[encoded data removed]"
          },
          "metadata": {}
        }
      ]
    },
    {
      "cell_type": "markdown",
      "source": [
        "4. Mapeo de la distribución de probabilidad"
      ],
      "metadata": {
        "id": "N_mWq3Oieuac"
      }
    },
    {
      "cell_type": "code",
      "source": [
        "if abs(cas) < 0.5 and abs(ck) < 0.5:\n",
        "  print('Posible distribución normal')\n",
        "elif cas > 0 and abs(ck) > 3:\n",
        "  if ck >=8:\n",
        "    print('Posible distribución exponencial')\n",
        "  elif ck >=6:\n",
        "      print('Posible distribución gamma')\n",
        "  else:\n",
        "      print('Posible distribución Weibull')\n",
        "\n",
        "elif cas < 0 and abs(ck) < 3:\n",
        "  print('Posible distribución beta')\n",
        "elif ck < 3:\n",
        "  print('Posible distribución uniforme')\n",
        "else:\n",
        "  print('No es posible determinar la distribución')"
      ],
      "metadata": {
        "colab": {
          "base_uri": "https://localhost:8080/"
        },
        "id": "ldFd6mGdeJLM",
        "outputId": "252e1df1-b89b-495f-9435-321c5ad837f5"
      },
      "execution_count": 24,
      "outputs": [
        {
          "output_type": "stream",
          "name": "stdout",
          "text": [
            "Posible distribución exponencial\n"
          ]
        }
      ]
    },
    {
      "cell_type": "markdown",
      "source": [
        "**Analisis de Resultados**\n",
        "\n",
        "El número de datos disponible para este analisis fueron un total de 701, lo que lo ubica en una confiabilidad del 99%, para incrementar esta confiabilidad se procedio con un muestreo basado en el método de monte carlo (Giro de la ruleta- Cargada). Logrando en muchos casos, coeficientes de curtosis y coeficientes de asimetria por debajo del 5%, y coefciente de curtosis del 15%. A diferencia del método sampling que utiliza la libreria pandas, los cuales tuvieron variaciones mayores a estos porcentajes. El método monte carlo, asegura variaciones mucho mas bajas en estos coeficientes."
      ],
      "metadata": {
        "id": "o-x_79Z7qbAF"
      }
    }
  ]
}